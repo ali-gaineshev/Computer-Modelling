{
 "cells": [
  {
   "cell_type": "code",
   "execution_count": 1,
   "metadata": {
    "scrolled": true
   },
   "outputs": [],
   "source": [
    "import numpy as np\n",
    "import igl\n",
    "import meshplot as mp"
   ]
  },
  {
   "cell_type": "code",
   "execution_count": 2,
   "metadata": {
    "scrolled": true
   },
   "outputs": [],
   "source": [
    "# Utility function to generate a tet grid\n",
    "# n is a 3-tuple with the number of cell in every direction\n",
    "# mmin/mmax are the grid bounding box corners\n",
    "\n",
    "def tet_grid(n, mmin, mmax):\n",
    "    nx = n[0]\n",
    "    ny = n[1]\n",
    "    nz = n[2]\n",
    "    \n",
    "    delta = mmax-mmin\n",
    "    \n",
    "    deltax = delta[0]/(nx-1)\n",
    "    deltay = delta[1]/(ny-1)\n",
    "    deltaz = delta[2]/(nz-1)\n",
    "    \n",
    "    T = np.zeros(((nx-1)*(ny-1)*(nz-1)*6, 4), dtype=np.int64)\n",
    "    V = np.zeros((nx*ny*nz, 3))\n",
    "\n",
    "    mapping = -np.ones((nx, ny, nz), dtype=np.int64)\n",
    "\n",
    "\n",
    "    index = 0\n",
    "    for i in range(nx):\n",
    "        for j in range(ny):\n",
    "            for k in range(nz):\n",
    "                mapping[i, j, k] = index\n",
    "                V[index, :] = [i*deltax, j*deltay, k*deltaz]\n",
    "                index += 1\n",
    "    assert(index == V.shape[0])\n",
    "    \n",
    "    tets = np.array([\n",
    "        [0,1,3,4],\n",
    "        [5,2,6,7],\n",
    "        [4,1,5,3],\n",
    "        [4,3,7,5],\n",
    "        [3,1,5,2],\n",
    "        [2,3,7,5]\n",
    "    ])\n",
    "    \n",
    "    index = 0\n",
    "    for i in range(nx-1):\n",
    "        for j in range(ny-1):\n",
    "            for k in range(nz-1):\n",
    "                indices = [\n",
    "                    (i,   j,   k),\n",
    "                    (i+1, j,   k),\n",
    "                    (i+1, j+1, k),\n",
    "                    (i,   j+1, k),\n",
    "\n",
    "                    (i,   j,   k+1),\n",
    "                    (i+1, j,   k+1),\n",
    "                    (i+1, j+1, k+1),\n",
    "                    (i,   j+1, k+1),\n",
    "                ]\n",
    "                \n",
    "                for t in range(tets.shape[0]):\n",
    "                    tmp = [mapping[indices[ii]] for ii in tets[t, :]]\n",
    "                    T[index, :]=tmp\n",
    "                    index += 1\n",
    "                    \n",
    "    assert(index == T.shape[0])\n",
    "    \n",
    "    V += mmin\n",
    "    return V, T"
   ]
  },
  {
   "cell_type": "markdown",
   "metadata": {},
   "source": [
    "# Reading point cloud"
   ]
  },
  {
   "cell_type": "code",
   "execution_count": null,
   "metadata": {},
   "outputs": [
    {
     "data": {
      "application/vnd.jupyter.widget-view+json": {
       "model_id": "58004b393f0044f0aba19b57a97c5b14",
       "version_major": 2,
       "version_minor": 0
      },
      "text/plain": [
       "Renderer(camera=PerspectiveCamera(children=(DirectionalLight(color='white', intensity=0.6, position=(5.0, -23.…"
      ]
     },
     "metadata": {},
     "output_type": "display_data"
    }
   ],
   "source": [
    "def sample_code1():\n",
    "    pi, v = igl.read_triangle_mesh(\"data/cat.off\")\n",
    "    pi /= 10\n",
    "    ni = igl.per_vertex_normals(pi, v)\n",
    "    mp.plot(pi, shading={\"point_size\": 8})\n",
    "\n",
    "sample_code1()"
   ]
  },
  {
   "cell_type": "code",
   "execution_count": 4,
   "metadata": {},
   "outputs": [],
   "source": [
    "# returns index of a point X which is closest to point in points\n",
    "def find_closest_point(point, points) -> np.array:\n",
    "    return np.argmin(\n",
    "        np.linalg.norm(points - point, axis=1)\n",
    "    )\n"
   ]
  },
  {
   "cell_type": "code",
   "execution_count": 5,
   "metadata": {},
   "outputs": [],
   "source": [
    "# Part 1 - Constraints\n",
    "def get_constraints(v, n, eps):\n",
    "    points: list = []  # constraint pointss\n",
    "    values: list = []  # function values\n",
    "\n",
    "    for i in range(v.shape[0]): \n",
    "        point: np.array = v[i]\n",
    "        normal: np.array = n[i] / np.linalg.norm(n[i])  # normalized normal\n",
    "\n",
    "        # On surface points and values\n",
    "        points.append(point)\n",
    "        values.append(0)\n",
    "\n",
    "        # Off surface constraints and values\n",
    "        for eps_sign in [1, -1]:\n",
    "            \n",
    "            eps_value: int = eps * eps_sign\n",
    "            candidate_p: np.array = point + eps_value * normal\n",
    "\n",
    "            # cehcks that p_i is closest to candidate point\n",
    "            while find_closest_point(candidate_p, v) != i:\n",
    "                eps_value /= 2 # halve the eps and keep searchingg\n",
    "                candidate_p = point + eps_value * normal\n",
    "\n",
    "            points.append(candidate_p)\n",
    "            values.append(eps_value)\n",
    "\n",
    "    return np.array(points),  np.array(values)\n"
   ]
  },
  {
   "cell_type": "code",
   "execution_count": 6,
   "metadata": {},
   "outputs": [
    {
     "data": {
      "application/vnd.jupyter.widget-view+json": {
       "model_id": "049c5e628e714c809e8a0fcc20ee0915",
       "version_major": 2,
       "version_minor": 0
      },
      "text/plain": [
       "Renderer(camera=PerspectiveCamera(children=(DirectionalLight(color='white', intensity=0.6, position=(5.0, -23.…"
      ]
     },
     "metadata": {},
     "output_type": "display_data"
    },
    {
     "data": {
      "text/plain": [
       "2"
      ]
     },
     "execution_count": 6,
     "metadata": {},
     "output_type": "execute_result"
    }
   ],
   "source": [
    "# CAT values\n",
    "v, faces = igl.read_triangle_mesh(\"data/cat.off\")\n",
    "v /= 10  \n",
    "n = igl.per_vertex_normals(v, faces)\n",
    "# EPS\n",
    "box_max = np.max(v, axis=0)\n",
    "box_min = np.min(v, axis=0)\n",
    "box_diag = np.linalg.norm(box_max-box_min, 2)\n",
    "eps = 0.01 * box_diag\n",
    "\n",
    "# Getting constraints\n",
    "constraint_points, constraint_values = get_constraints(v, n, eps)\n",
    "\n",
    "# Separate points by constraint \n",
    "on_surface_points = constraint_points[constraint_values == 0]\n",
    "outside_points = constraint_points[constraint_values > 0]\n",
    "inside_points = constraint_points[constraint_values < 0]\n",
    "\n",
    "# Visualize\n",
    "plot = mp.plot(on_surface_points, shading={\"point_color\": \"blue\", \"point_size\": 8})  \n",
    "plot.add_points(outside_points, shading={\"point_color\": \"red\", \"point_size\": 8})   \n",
    "plot.add_points(inside_points, shading={\"point_color\": \"green\", \"point_size\": 8})   \n"
   ]
  },
  {
   "cell_type": "markdown",
   "metadata": {},
   "source": [
    "# MLS function"
   ]
  },
  {
   "cell_type": "code",
   "execution_count": 7,
   "metadata": {
    "scrolled": true
   },
   "outputs": [
    {
     "data": {
      "application/vnd.jupyter.widget-view+json": {
       "model_id": "b1ffcacacfa44d55908b04a45548bc69",
       "version_major": 2,
       "version_minor": 0
      },
      "text/plain": [
       "Renderer(camera=PerspectiveCamera(children=(DirectionalLight(color='white', intensity=0.6, position=(0.0, 0.0,…"
      ]
     },
     "metadata": {},
     "output_type": "display_data"
    }
   ],
   "source": [
    "# Parameters\n",
    "def sample_code2():\n",
    "    bbox_min = np.array([-1., -1., -1.])\n",
    "    bbox_max = np.array([1., 1., 1.])\n",
    "    bbox_diag = np.linalg.norm(bbox_max - bbox_min)\n",
    "\n",
    "    n = 10\n",
    "\n",
    "    #------\n",
    "\n",
    "    # Generate grid n x n x n\n",
    "\n",
    "    x, T = tet_grid((n, n, n), bbox_min - 0.05 * bbox_diag, bbox_max + 0.05 * bbox_diag)\n",
    "\n",
    "    #Compute implicit sphere function\n",
    "    center = np.array([0., 0., 0.])\n",
    "    radius = 1\n",
    "    fx = np.linalg.norm(x-center, axis=1) - radius\n",
    "\n",
    "    #------\n",
    "\n",
    "    # Treshold fx to visualize inside outside\n",
    "\n",
    "    ind = np.zeros_like(fx)\n",
    "    ind[fx >= 0] = 1\n",
    "    ind[fx < 0] = -1\n",
    "    mp.plot(x, c=ind, shading={\"point_size\": 0.1,\"width\": 800, \"height\": 800})\n",
    "\n",
    "sample_code2()"
   ]
  },
  {
   "cell_type": "code",
   "execution_count": 8,
   "metadata": {
    "scrolled": false
   },
   "outputs": [],
   "source": [
    "# returns indecies of a point X which are within distance h in points\n",
    "def closest_points(point, points, h) -> np.array:\n",
    "    distances: np.array = np.linalg.norm(points - point, axis=1) \n",
    "    return np.argwhere(distances < h).flatten()\n",
    "\n",
    "def wendland_weight(r, h):\n",
    "    if r >= h:\n",
    "        return 0\n",
    "    return (1 - r / h)**4 * (4 * r / h + 1)\n",
    "\n",
    "def polynomial_basis(P, degree):\n",
    "    num = P.shape[0]  \n",
    "    x, y, z = P[:, 0], P[:, 1], P[:, 2]  \n",
    "\n",
    "    # degree 0 - just 1s\n",
    "    if degree == 0:\n",
    "        return np.ones((num, 1)) \n",
    "\n",
    "    # degree 1 - [1, x, y, z]\n",
    "    if degree == 1:\n",
    "        return np.column_stack(\n",
    "            (np.ones(num), x, y, z)\n",
    "        )  \n",
    "\n",
    "    # degree 2 -\n",
    "    if degree == 2:\n",
    "        return np.column_stack((\n",
    "            np.ones(num),  \n",
    "            x, y, z,  \n",
    "            x * y, y * z, z * x,  \n",
    "            x ** 2, y ** 2, z ** 2 \n",
    "        ))\n",
    "    \n",
    "    raise RuntimeError"
   ]
  },
  {
   "cell_type": "code",
   "execution_count": 9,
   "metadata": {},
   "outputs": [],
   "source": [
    "def mls_interpolation(points, constraint_points, constraint_values, wendland_radius, poly_degree):\n",
    "    poly_coef_double_map = [1, 4, 10]  # Required number of points\n",
    "    fx = np.zeros(points.shape[0]) # new values\n",
    "\n",
    "    for i, pi in enumerate(points):\n",
    "        closest_idx = closest_points(pi, constraint_points, wendland_radius)\n",
    "        # number of points must be more than double of poly degree\n",
    "        if len(closest_idx) < poly_coef_double_map[poly_degree]:\n",
    "            fx[i] = 999999  # Assign large value for outside\n",
    "            continue\n",
    "        \n",
    "        P: np.array = constraint_points[closest_idx] - pi\n",
    "\n",
    "        # Ccompute weights using wendland function\n",
    "        distances: np.array = np.linalg.norm(P, axis=1)\n",
    "        weights: np.array = np.array([wendland_weight(r, wendland_radius) for r in distances])\n",
    "\n",
    "        # polynomial basis \n",
    "        Basis = polynomial_basis(P, poly_degree)\n",
    "        # Weight matrix\n",
    "        Weight = np.diag(weights)\n",
    "\n",
    "        # We are trying to solve A * c = b where A and b are known\n",
    "        A = Basis.T @ Weight @ Basis\n",
    "        b: np.array = Basis.T @ Weight @ constraint_values[closest_idx]\n",
    "\n",
    "        # Evaluate the polynomial at xi (which is the origin in local coordinates)\n",
    "        try:\n",
    "            c = np.linalg.solve(A, b)  # Solve A * c = b\n",
    "            fx[i] = (polynomial_basis(np.array([[0, 0, 0]]), poly_degree) @ c).item()\n",
    "\n",
    "            # fx[i] = c[0]\n",
    "            #fx[i] = b.dot(c)\n",
    "\n",
    "        except: #LinAlgError: Singular matrix with polydefree != 0\n",
    "            fx[i] = 999999\n",
    "            \n",
    "    return fx"
   ]
  },
  {
   "cell_type": "code",
   "execution_count": 10,
   "metadata": {},
   "outputs": [],
   "source": [
    "# cat points\n",
    "constraint_points, constraint_values = get_constraints(v, n, eps)\n",
    "\n",
    "# config\n",
    "wendland_radius =  15\n",
    "resolution = 50\n",
    "\n",
    "# construct grid\n",
    "bbox_max = np.max(constraint_points, axis=0)\n",
    "bbox_min = np.min(constraint_points, axis=0)\n",
    "bbox_diag = np.linalg.norm(bbox_max-bbox_min) \n",
    "grid, T = tet_grid((resolution, resolution, resolution), bbox_min - 0.05 * bbox_diag, bbox_max + 0.05 * bbox_diag)\n",
    "\n",
    "\n",
    "#\n",
    "def plot_mls(grid, constraint_points, constraint_values, wendland_radius, poly_degree=0):\n",
    "    fx = mls_interpolation(grid, constraint_points, constraint_values, wendland_radius, poly_degree)\n",
    "\n",
    "    # Separate points by values \n",
    "    outside_points = grid[fx >= 0]\n",
    "    inside_points = grid[fx < 0]\n",
    "\n",
    "    # Visuaze\n",
    "    plot = mp.plot(outside_points, shading={\"point_color\": \"green\", \"point_size\": 3})  \n",
    "    plot.add_points(inside_points, shading={\"point_color\": \"red\", \"point_size\": 8})   \n",
    "\n",
    "    return fx"
   ]
  },
  {
   "cell_type": "markdown",
   "metadata": {},
   "source": [
    "# Marching to extract surface"
   ]
  },
  {
   "cell_type": "code",
   "execution_count": 11,
   "metadata": {},
   "outputs": [],
   "source": [
    "def filter_largest_component(sf):\n",
    "    components = igl.facet_components(sf)\n",
    "\n",
    "    largest_comp = np.bincount(components).argmax()\n",
    "\n",
    "    return np.array( \n",
    "        [face for face_i, face in enumerate(sf) if components[face_i] == largest_comp]\n",
    "    )\n",
    "\n"
   ]
  },
  {
   "cell_type": "markdown",
   "metadata": {},
   "source": [
    "## MLS Interpolation with Poly Degree = 0"
   ]
  },
  {
   "cell_type": "code",
   "execution_count": 12,
   "metadata": {},
   "outputs": [
    {
     "name": "stdout",
     "output_type": "stream",
     "text": [
      "Poly degree is 0\n"
     ]
    },
    {
     "data": {
      "application/vnd.jupyter.widget-view+json": {
       "model_id": "850e7ebd8c7c4f75940fe05aba442097",
       "version_major": 2,
       "version_minor": 0
      },
      "text/plain": [
       "Renderer(camera=PerspectiveCamera(children=(DirectionalLight(color='white', intensity=0.6, position=(5.0120954…"
      ]
     },
     "metadata": {},
     "output_type": "display_data"
    },
    {
     "data": {
      "application/vnd.jupyter.widget-view+json": {
       "model_id": "0a8dcc31a3c6443abe8034b38f146278",
       "version_major": 2,
       "version_minor": 0
      },
      "text/plain": [
       "Renderer(camera=PerspectiveCamera(children=(DirectionalLight(color='white', intensity=0.6, position=(4.9561357…"
      ]
     },
     "metadata": {},
     "output_type": "display_data"
    },
    {
     "data": {
      "text/plain": [
       "<meshplot.Viewer.Viewer at 0x2e626027ce0>"
      ]
     },
     "execution_count": 12,
     "metadata": {},
     "output_type": "execute_result"
    }
   ],
   "source": [
    "print(\"Poly degree is 0\")\n",
    "fx = plot_mls(grid, constraint_points, constraint_values, wendland_radius, poly_degree=0)\n",
    "\n",
    "# Marcing tet to extract surface\n",
    "sv, sf, _, _ = igl.marching_tets(grid, T, fx, 0)\n",
    "filtered_sf = filter_largest_component(sf)\n",
    "mp.plot(sv, filtered_sf, shading={\"wireframe\": True})"
   ]
  },
  {
   "cell_type": "markdown",
   "metadata": {},
   "source": [
    "## MLS Interpolation with Poly Degree = 1"
   ]
  },
  {
   "cell_type": "code",
   "execution_count": 13,
   "metadata": {},
   "outputs": [
    {
     "name": "stdout",
     "output_type": "stream",
     "text": [
      "Poly degree is 1\n"
     ]
    },
    {
     "data": {
      "application/vnd.jupyter.widget-view+json": {
       "model_id": "1147d98fef8e41429c28c25c647a29c4",
       "version_major": 2,
       "version_minor": 0
      },
      "text/plain": [
       "Renderer(camera=PerspectiveCamera(children=(DirectionalLight(color='white', intensity=0.6, position=(5.0120954…"
      ]
     },
     "metadata": {},
     "output_type": "display_data"
    },
    {
     "data": {
      "application/vnd.jupyter.widget-view+json": {
       "model_id": "15d217a66118484199d2cf0760dfa440",
       "version_major": 2,
       "version_minor": 0
      },
      "text/plain": [
       "Renderer(camera=PerspectiveCamera(children=(DirectionalLight(color='white', intensity=0.6, position=(7.8184061…"
      ]
     },
     "metadata": {},
     "output_type": "display_data"
    },
    {
     "data": {
      "text/plain": [
       "<meshplot.Viewer.Viewer at 0x2e625fbf2f0>"
      ]
     },
     "execution_count": 13,
     "metadata": {},
     "output_type": "execute_result"
    }
   ],
   "source": [
    "print(\"Poly degree is 1\")\n",
    "fx = plot_mls(grid, constraint_points, constraint_values, wendland_radius, poly_degree=1)\n",
    "\n",
    "# Marcing tet to extract surface\n",
    "sv, sf, _, _ = igl.marching_tets(grid, T, fx, 0)\n",
    "filtered_sf = filter_largest_component(sf)\n",
    "mp.plot(sv, filtered_sf, shading={\"wireframe\": True})"
   ]
  },
  {
   "cell_type": "markdown",
   "metadata": {},
   "source": [
    "## MLS Interpolation with Poly Degree = 2"
   ]
  },
  {
   "cell_type": "code",
   "execution_count": 14,
   "metadata": {},
   "outputs": [
    {
     "name": "stdout",
     "output_type": "stream",
     "text": [
      "Poly degree is 2\n"
     ]
    },
    {
     "data": {
      "application/vnd.jupyter.widget-view+json": {
       "model_id": "2f469c9d9af44a688132b3e7a95d398b",
       "version_major": 2,
       "version_minor": 0
      },
      "text/plain": [
       "Renderer(camera=PerspectiveCamera(children=(DirectionalLight(color='white', intensity=0.6, position=(5.0120954…"
      ]
     },
     "metadata": {},
     "output_type": "display_data"
    },
    {
     "data": {
      "application/vnd.jupyter.widget-view+json": {
       "model_id": "2735b6e03e414946a898dfe82be3c77f",
       "version_major": 2,
       "version_minor": 0
      },
      "text/plain": [
       "Renderer(camera=PerspectiveCamera(children=(DirectionalLight(color='white', intensity=0.6, position=(5.0120954…"
      ]
     },
     "metadata": {},
     "output_type": "display_data"
    },
    {
     "data": {
      "text/plain": [
       "<meshplot.Viewer.Viewer at 0x2e625fbf800>"
      ]
     },
     "execution_count": 14,
     "metadata": {},
     "output_type": "execute_result"
    }
   ],
   "source": [
    "print(\"Poly degree is 2\")\n",
    "fx = plot_mls(grid, constraint_points, constraint_values, wendland_radius, poly_degree=2)\n",
    "\n",
    "# Marcing tet to extract surface\n",
    "sv, sf, _, _ = igl.marching_tets(grid, T, fx, 0)\n",
    "filtered_sf = filter_largest_component(sf)\n",
    "mp.plot(sv, filtered_sf, shading={\"wireframe\": True})"
   ]
  },
  {
   "cell_type": "code",
   "execution_count": null,
   "metadata": {
    "scrolled": false
   },
   "outputs": [],
   "source": []
  },
  {
   "cell_type": "code",
   "execution_count": null,
   "metadata": {
    "scrolled": true
   },
   "outputs": [],
   "source": []
  }
 ],
 "metadata": {
  "kernelspec": {
   "display_name": "Python 3",
   "language": "python",
   "name": "python3"
  },
  "language_info": {
   "codemirror_mode": {
    "name": "ipython",
    "version": 3
   },
   "file_extension": ".py",
   "mimetype": "text/x-python",
   "name": "python",
   "nbconvert_exporter": "python",
   "pygments_lexer": "ipython3",
   "version": "3.12.5"
  }
 },
 "nbformat": 4,
 "nbformat_minor": 4
}
